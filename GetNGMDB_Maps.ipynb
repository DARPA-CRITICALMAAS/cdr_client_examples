{
 "cells": [
  {
   "cell_type": "markdown",
   "id": "3cf2e1a7",
   "metadata": {},
   "source": [
    "### Purpose of this notebook is to show how CDR clients, performers, etc. can access the CDR to get direct access to NGMDB maps and metadat, as well as associated cloud optimized geotifs (COG's).\n",
    "\n",
    "The functionality below includes:\n",
    "- Getting NGMDB metadata, map, cog by NGMDB proddeesc id\n",
    "- Getting NGMDB metadata, map, cog by NGMDB proddeesc id and item id\n",
    "- Getting cog by cog id\n",
    "- Iterating through all maps available\n",
    "\n",
    "Future `process map` events fired by the CDR will include the `cog id` as a reference point to the map."
   ]
  },
  {
   "cell_type": "code",
   "execution_count": null,
   "id": "5068f840-caab-46d5-b11f-d217ce33e1a7",
   "metadata": {},
   "outputs": [],
   "source": [
    "import httpx\n",
    "import json"
   ]
  },
  {
   "cell_type": "code",
   "execution_count": null,
   "id": "cca34051-7021-47a2-9c0d-909c999aa615",
   "metadata": {},
   "outputs": [],
   "source": [
    "# Get this from Justin\n",
    "# REPLACE ME\n",
    "token = \"MY_CDR_TOKEN\""
   ]
  },
  {
   "cell_type": "code",
   "execution_count": null,
   "id": "fd44a701-7223-4a68-9cbd-b92ff7b6fc3f",
   "metadata": {},
   "outputs": [],
   "source": [
    "cdr_host = \"https://api.cdr.land\"\n",
    "# Admin token (for now)\n",
    "headers={\"Authorization\": f\"Bearer {token}\"}"
   ]
  },
  {
   "cell_type": "code",
   "execution_count": null,
   "id": "e7e99843-fc5b-4561-91c9-291daaaa85a6",
   "metadata": {},
   "outputs": [],
   "source": [
    "client = httpx.Client(follow_redirects=True)"
   ]
  },
  {
   "cell_type": "code",
   "execution_count": null,
   "id": "29b721a0-9551-43eb-94b3-2748f4283bbc",
   "metadata": {},
   "outputs": [],
   "source": [
    "def trim(x):\n",
    "    \"\"\"\n",
    "    Helper function to just show ngmdb item #, original download location, and cog location.\n",
    "    \"\"\"\n",
    "    return list(map(lambda x: {\"item\":x[\"item\"], \"original_download\":x[\"link\"], \"cog_download\":x[\"cog_url\"]}, x.get(\"holdings\",{}).get(\"images\",[])))"
   ]
  },
  {
   "cell_type": "code",
   "execution_count": null,
   "id": "402c6406-3074-437e-9b1a-3a6bca731a21",
   "metadata": {},
   "outputs": [],
   "source": [
    "# Get https://ngmdb.usgs.gov/Prodesc/proddesc_10227.htm and associated COGs\n",
    "\n",
    "ngmdb_id = 10227\n",
    "resp = client.get(f\"{cdr_host}/v1/maps/ngmdb/{ngmdb_id}\", headers=headers).json()\n",
    "\n",
    "# show trimmed\n",
    "print(json.dumps(trim(resp),indent=2))\n",
    "\n",
    "# show full ngmdb result\n",
    "print(json.dumps(resp,indent=2))"
   ]
  },
  {
   "cell_type": "code",
   "execution_count": null,
   "id": "ee33a587-b032-46a4-8ffa-c6236482d11b",
   "metadata": {},
   "outputs": [],
   "source": [
    "# https://ngmdb.usgs.gov/Prodesc/proddesc_5654.htm (item 17863) and associated COG\n",
    "\n",
    "ngmdb_id = 5654\n",
    "item = 17863\n",
    "resp = client.get(f\"{cdr_host}/v1/maps/cog/ngmdb/{ngmdb_id}/{item}\", headers=headers).json()\n",
    "print(json.dumps(resp,indent=2))"
   ]
  },
  {
   "cell_type": "code",
   "execution_count": null,
   "id": "9eb5075a-3255-4e07-a3ec-055d281a8862",
   "metadata": {},
   "outputs": [],
   "source": [
    "# Get 60cc43cc09e650f301d96dd94ce04ef12cf52dab319ab9ea39ce31c6010e08cc COG\n",
    "\n",
    "cog_id = \"60cc43cc09e650f301d96dd94ce04ef12cf52dab319ab9ea39ce31c6010e08cc\"\n",
    "resp = client.get(f\"{cdr_host}/v1/maps/cog/{cog_id}\", headers=headers).json()\n",
    "print(json.dumps(resp,indent=2))"
   ]
  },
  {
   "cell_type": "code",
   "execution_count": null,
   "id": "8325317d-738b-4bd5-bc6c-8f69864f994c",
   "metadata": {},
   "outputs": [],
   "source": [
    "# Iterate through maps\n",
    "\n",
    "resp = client.get(f\"{cdr_host}/v1/maps/list\", headers=headers, params={\"page\":0, \"size\":10}).json()\n",
    "print(json.dumps(resp,indent=2))"
   ]
  },
  {
   "cell_type": "code",
   "execution_count": null,
   "id": "cf5c7315",
   "metadata": {},
   "outputs": [],
   "source": [
    "# Get a georeference result for a map\n",
    "\n",
    "georef_result = client.get(f\"{cdr_host}/v1/maps/georeference/xcorp_georeferencer_0.0.1_988436da378998cb1b4f9b078b0b205b084933633719335bb8dab9b6b0b6e4c0\", headers=headers).json()\n",
    "\n",
    "# Get a feature result for a map\n",
    "\n",
    "feature_result = client.get(f\"{cdr_host}/v1/maps/feature/<PLACEHOLDER>\", headers=headers).json()\n",
    "\n",
    "# Get TA1 extraction results from a particular map by cog_id\n",
    "\n",
    "all_results = client.get(f\"{cdr_host}/v1/maps/cog/5e8516cd12cd32c536cf018d198d318f2d8d4e6d4eed486f496fca6d69cd89c7/results\", headers=headers).json()"
   ]
  },
  {
   "cell_type": "code",
   "execution_count": null,
   "id": "0269f337",
   "metadata": {},
   "outputs": [],
   "source": []
  }
 ],
 "metadata": {
  "kernelspec": {
   "display_name": "Python 3 (ipykernel)",
   "language": "python",
   "name": "python3"
  },
  "language_info": {
   "codemirror_mode": {
    "name": "ipython",
    "version": 3
   },
   "file_extension": ".py",
   "mimetype": "text/x-python",
   "name": "python",
   "nbconvert_exporter": "python",
   "pygments_lexer": "ipython3",
   "version": "3.11.6"
  }
 },
 "nbformat": 4,
 "nbformat_minor": 5
}
