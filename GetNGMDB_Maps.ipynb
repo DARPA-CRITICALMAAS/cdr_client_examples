{
 "cells": [
  {
   "cell_type": "markdown",
   "id": "3cf2e1a7",
   "metadata": {},
   "source": [
    "### Purpose of this notebook is to show how CDR clients, performers, etc. can access the CDR to get direct access to NGMDB maps and metadat, as well as associated cloud optimized geotifs (COG's).\n",
    "\n",
    "The functionality below includes:\n",
    "- Getting NGMDB metadata, map, cog by NGMDB proddeesc id\n",
    "- Getting NGMDB metadata, map, cog by NGMDB proddeesc id and item id\n",
    "- Getting cog by cog id\n",
    "- Iterating through all maps available\n",
    "\n",
    "Future `process map` events fired by the CDR will include the `cog id` as a reference point to the map."
   ]
  },
  {
   "cell_type": "code",
   "execution_count": 2,
   "id": "5068f840-caab-46d5-b11f-d217ce33e1a7",
   "metadata": {},
   "outputs": [
    {
     "ename": "KeyboardInterrupt",
     "evalue": "",
     "output_type": "error",
     "traceback": [
      "\u001b[0;31m---------------------------------------------------------------------------\u001b[0m",
      "\u001b[0;31mKeyboardInterrupt\u001b[0m                         Traceback (most recent call last)",
      "Cell \u001b[0;32mIn[2], line 1\u001b[0m\n\u001b[0;32m----> 1\u001b[0m \u001b[38;5;28;01mimport\u001b[39;00m \u001b[38;5;21;01mhttpx\u001b[39;00m\n\u001b[1;32m      2\u001b[0m \u001b[38;5;28;01mimport\u001b[39;00m \u001b[38;5;21;01mjson\u001b[39;00m\n",
      "Cell \u001b[0;32mIn[2], line 1\u001b[0m\n\u001b[0;32m----> 1\u001b[0m \u001b[38;5;28;01mimport\u001b[39;00m \u001b[38;5;21;01mhttpx\u001b[39;00m\n\u001b[1;32m      2\u001b[0m \u001b[38;5;28;01mimport\u001b[39;00m \u001b[38;5;21;01mjson\u001b[39;00m\n",
      "File \u001b[0;32m_pydevd_bundle/pydevd_cython.pyx:1457\u001b[0m, in \u001b[0;36m_pydevd_bundle.pydevd_cython.SafeCallWrapper.__call__\u001b[0;34m()\u001b[0m\n",
      "File \u001b[0;32m_pydevd_bundle/pydevd_cython.pyx:701\u001b[0m, in \u001b[0;36m_pydevd_bundle.pydevd_cython.PyDBFrame.trace_dispatch\u001b[0;34m()\u001b[0m\n",
      "File \u001b[0;32m_pydevd_bundle/pydevd_cython.pyx:1152\u001b[0m, in \u001b[0;36m_pydevd_bundle.pydevd_cython.PyDBFrame.trace_dispatch\u001b[0;34m()\u001b[0m\n",
      "File \u001b[0;32m_pydevd_bundle/pydevd_cython.pyx:1135\u001b[0m, in \u001b[0;36m_pydevd_bundle.pydevd_cython.PyDBFrame.trace_dispatch\u001b[0;34m()\u001b[0m\n",
      "File \u001b[0;32m_pydevd_bundle/pydevd_cython.pyx:312\u001b[0m, in \u001b[0;36m_pydevd_bundle.pydevd_cython.PyDBFrame.do_wait_suspend\u001b[0;34m()\u001b[0m\n",
      "File \u001b[0;32m~/.cache/pypoetry/virtualenvs/cdr-schemas-OOqMhlte-py3.11/lib/python3.11/site-packages/debugpy/_vendored/pydevd/pydevd.py:2070\u001b[0m, in \u001b[0;36mPyDB.do_wait_suspend\u001b[0;34m(self, thread, frame, event, arg, exception_type)\u001b[0m\n\u001b[1;32m   2067\u001b[0m             from_this_thread\u001b[38;5;241m.\u001b[39mappend(frame_custom_thread_id)\n\u001b[1;32m   2069\u001b[0m     \u001b[38;5;28;01mwith\u001b[39;00m \u001b[38;5;28mself\u001b[39m\u001b[38;5;241m.\u001b[39m_threads_suspended_single_notification\u001b[38;5;241m.\u001b[39mnotify_thread_suspended(thread_id, thread, stop_reason):\n\u001b[0;32m-> 2070\u001b[0m         keep_suspended \u001b[38;5;241m=\u001b[39m \u001b[38;5;28;43mself\u001b[39;49m\u001b[38;5;241;43m.\u001b[39;49m\u001b[43m_do_wait_suspend\u001b[49m\u001b[43m(\u001b[49m\u001b[43mthread\u001b[49m\u001b[43m,\u001b[49m\u001b[43m \u001b[49m\u001b[43mframe\u001b[49m\u001b[43m,\u001b[49m\u001b[43m \u001b[49m\u001b[43mevent\u001b[49m\u001b[43m,\u001b[49m\u001b[43m \u001b[49m\u001b[43marg\u001b[49m\u001b[43m,\u001b[49m\u001b[43m \u001b[49m\u001b[43msuspend_type\u001b[49m\u001b[43m,\u001b[49m\u001b[43m \u001b[49m\u001b[43mfrom_this_thread\u001b[49m\u001b[43m,\u001b[49m\u001b[43m \u001b[49m\u001b[43mframes_tracker\u001b[49m\u001b[43m)\u001b[49m\n\u001b[1;32m   2072\u001b[0m frames_list \u001b[38;5;241m=\u001b[39m \u001b[38;5;28;01mNone\u001b[39;00m\n\u001b[1;32m   2074\u001b[0m \u001b[38;5;28;01mif\u001b[39;00m keep_suspended:\n\u001b[1;32m   2075\u001b[0m     \u001b[38;5;66;03m# This means that we should pause again after a set next statement.\u001b[39;00m\n",
      "File \u001b[0;32m~/.cache/pypoetry/virtualenvs/cdr-schemas-OOqMhlte-py3.11/lib/python3.11/site-packages/debugpy/_vendored/pydevd/pydevd.py:2106\u001b[0m, in \u001b[0;36mPyDB._do_wait_suspend\u001b[0;34m(self, thread, frame, event, arg, suspend_type, from_this_thread, frames_tracker)\u001b[0m\n\u001b[1;32m   2103\u001b[0m         \u001b[38;5;28mself\u001b[39m\u001b[38;5;241m.\u001b[39m_call_input_hook()\n\u001b[1;32m   2105\u001b[0m     \u001b[38;5;28mself\u001b[39m\u001b[38;5;241m.\u001b[39mprocess_internal_commands()\n\u001b[0;32m-> 2106\u001b[0m     time\u001b[38;5;241m.\u001b[39msleep(\u001b[38;5;241m0.01\u001b[39m)\n\u001b[1;32m   2108\u001b[0m \u001b[38;5;28mself\u001b[39m\u001b[38;5;241m.\u001b[39mcancel_async_evaluation(get_current_thread_id(thread), \u001b[38;5;28mstr\u001b[39m(\u001b[38;5;28mid\u001b[39m(frame)))\n\u001b[1;32m   2110\u001b[0m \u001b[38;5;66;03m# process any stepping instructions\u001b[39;00m\n",
      "\u001b[0;31mKeyboardInterrupt\u001b[0m: "
     ]
    }
   ],
   "source": [
    "import httpx\n",
    "import json"
   ]
  },
  {
   "cell_type": "code",
   "execution_count": null,
   "id": "cca34051-7021-47a2-9c0d-909c999aa615",
   "metadata": {},
   "outputs": [],
   "source": [
    "# Get this from Justin\n",
    "# REPLACE ME\n",
    "token = \"MY_CDR_TOKEN\""
   ]
  },
  {
   "cell_type": "code",
   "execution_count": null,
   "id": "fd44a701-7223-4a68-9cbd-b92ff7b6fc3f",
   "metadata": {},
   "outputs": [],
   "source": [
    "cdr_host = \"https://api.cdr.land\"\n",
    "# Admin token (for now)\n",
    "headers={\"Authorization\": f\"Bearer {token}\"}"
   ]
  },
  {
   "cell_type": "code",
   "execution_count": null,
   "id": "e7e99843-fc5b-4561-91c9-291daaaa85a6",
   "metadata": {},
   "outputs": [],
   "source": [
    "client = httpx.Client(follow_redirects=True)"
   ]
  },
  {
   "cell_type": "code",
   "execution_count": null,
   "id": "29b721a0-9551-43eb-94b3-2748f4283bbc",
   "metadata": {},
   "outputs": [],
   "source": [
    "def trim(x):\n",
    "    \"\"\"\n",
    "    Helper function to just show ngmdb item #, original download location, and cog location.\n",
    "    \"\"\"\n",
    "    return list(map(lambda x: {\"item\":x[\"item\"], \"original_download\":x[\"link\"], \"cog_download\":x[\"cog_url\"]}, x.get(\"holdings\",{}).get(\"images\",[])))"
   ]
  },
  {
   "cell_type": "code",
   "execution_count": null,
   "id": "402c6406-3074-437e-9b1a-3a6bca731a21",
   "metadata": {},
   "outputs": [],
   "source": [
    "# Get https://ngmdb.usgs.gov/Prodesc/proddesc_10227.htm and associated COGs\n",
    "\n",
    "ngmdb_id = 10227\n",
    "resp = client.get(f\"{cdr_host}/v1/maps/ngmdb/{ngmdb_id}\", headers=headers).json()\n",
    "\n",
    "# show trimmed\n",
    "print(json.dumps(trim(resp),indent=2))\n",
    "\n",
    "# show full ngmdb result\n",
    "print(json.dumps(resp,indent=2))"
   ]
  },
  {
   "cell_type": "code",
   "execution_count": null,
   "id": "ee33a587-b032-46a4-8ffa-c6236482d11b",
   "metadata": {},
   "outputs": [],
   "source": [
    "# https://ngmdb.usgs.gov/Prodesc/proddesc_5654.htm (item 17863) and associated COG\n",
    "\n",
    "ngmdb_id = 5654\n",
    "item = 17863\n",
    "resp = client.get(f\"{cdr_host}/v1/maps/cog/ngmdb/{ngmdb_id}/{item}\", headers=headers).json()\n",
    "print(json.dumps(resp,indent=2))"
   ]
  },
  {
   "cell_type": "code",
   "execution_count": null,
   "id": "9eb5075a-3255-4e07-a3ec-055d281a8862",
   "metadata": {},
   "outputs": [],
   "source": [
    "# Get 60cc43cc09e650f301d96dd94ce04ef12cf52dab319ab9ea39ce31c6010e08cc COG\n",
    "\n",
    "cog_id = \"60cc43cc09e650f301d96dd94ce04ef12cf52dab319ab9ea39ce31c6010e08cc\"\n",
    "resp = client.get(f\"{cdr_host}/v1/maps/cog/{cog_id}\", headers=headers).json()\n",
    "print(json.dumps(resp,indent=2))"
   ]
  },
  {
   "cell_type": "code",
   "execution_count": null,
   "id": "8325317d-738b-4bd5-bc6c-8f69864f994c",
   "metadata": {},
   "outputs": [],
   "source": [
    "# Iterate through maps\n",
    "\n",
    "resp = client.get(f\"{cdr_host}/v1/maps/list\", headers=headers, params={\"page\":0, \"size\":10}).json()\n",
    "print(json.dumps(resp,indent=2))"
   ]
  },
  {
   "cell_type": "code",
   "execution_count": null,
   "id": "cf5c7315",
   "metadata": {},
   "outputs": [],
   "source": [
    "# Get a georeference result for a map\n",
    "\n",
    "georef_result = client.get(f\"{cdr_host}/v1/maps/georeference/xcorp_georeferencer_0.0.1_988436da378998cb1b4f9b078b0b205b084933633719335bb8dab9b6b0b6e4c0\", headers=headers).json()\n",
    "\n",
    "# Get a feature result for a map\n",
    "\n",
    "feature_result = client.get(f\"{cdr_host}/v1/maps/feature/<PLACEHOLDER>\", headers=headers).json()\n",
    "\n",
    "# Get TA1 extraction results from a particular map by cog_id\n",
    "\n",
    "all_results = client.get(f\"{cdr_host}/v1/maps/cog/5e8516cd12cd32c536cf018d198d318f2d8d4e6d4eed486f496fca6d69cd89c7/results\", headers=headers).json()"
   ]
  },
  {
   "cell_type": "code",
   "execution_count": null,
   "id": "0269f337",
   "metadata": {},
   "outputs": [],
   "source": []
  }
 ],
 "metadata": {
  "kernelspec": {
   "display_name": "Python 3 (ipykernel)",
   "language": "python",
   "name": "python3"
  },
  "language_info": {
   "codemirror_mode": {
    "name": "ipython",
    "version": 3
   },
   "file_extension": ".py",
   "mimetype": "text/x-python",
   "name": "python",
   "nbconvert_exporter": "python",
   "pygments_lexer": "ipython3",
   "version": "3.11.6"
  }
 },
 "nbformat": 4,
 "nbformat_minor": 5
}
